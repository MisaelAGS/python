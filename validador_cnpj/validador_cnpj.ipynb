{
 "cells": [
  {
   "cell_type": "code",
   "execution_count": 5,
   "metadata": {},
   "outputs": [],
   "source": [
    "num_cnpj = input('Digite o número do CNPJ: ')"
   ]
  },
  {
   "cell_type": "code",
   "execution_count": 6,
   "metadata": {},
   "outputs": [
    {
     "data": {
      "text/plain": [
       "6"
      ]
     },
     "execution_count": 6,
     "metadata": {},
     "output_type": "execute_result"
    }
   ],
   "source": [
    "num_aux = [5,4,3,2,9,8,7,6,5,4,3,2]\n",
    "somatorio = 0\n",
    "for i in range(12):\n",
    "    somatorio += int(num_cnpj[i]) * num_aux[i]\n",
    "\n",
    "if somatorio % 11 < 2:\n",
    "    primeiro_digito_verificador = 0\n",
    "else:\n",
    "    primeiro_digito_verificador = 11 - somatorio % 11\n",
    "\n",
    "primeiro_digito_verificador"
   ]
  },
  {
   "cell_type": "code",
   "execution_count": 7,
   "metadata": {},
   "outputs": [
    {
     "data": {
      "text/plain": [
       "9"
      ]
     },
     "execution_count": 7,
     "metadata": {},
     "output_type": "execute_result"
    }
   ],
   "source": [
    "num_aux = [6,5,4,3,2,9,8,7,6,5,4,3,2]\n",
    "somatorio = 0\n",
    "for i in range(13):\n",
    "    somatorio += int(num_cnpj[i]) * num_aux[i]\n",
    "\n",
    "if somatorio % 11 < 2:\n",
    "    segundo_digito_verificador = 0\n",
    "else:\n",
    "    segundo_digito_verificador = 11 - somatorio % 11\n",
    "\n",
    "segundo_digito_verificador"
   ]
  },
  {
   "cell_type": "code",
   "execution_count": 8,
   "metadata": {},
   "outputs": [
    {
     "data": {
      "text/plain": [
       "True"
      ]
     },
     "execution_count": 8,
     "metadata": {},
     "output_type": "execute_result"
    }
   ],
   "source": [
    "if int(num_cnpj[12]) == primeiro_digito_verificador and int(num_cnpj[13]) == segundo_digito_verificador:\n",
    "    resposta = True\n",
    "else:\n",
    "    resposta = False\n",
    "resposta"
   ]
  }
 ],
 "metadata": {
  "kernelspec": {
   "display_name": "Python 3",
   "language": "python",
   "name": "python3"
  },
  "language_info": {
   "codemirror_mode": {
    "name": "ipython",
    "version": 3
   },
   "file_extension": ".py",
   "mimetype": "text/x-python",
   "name": "python",
   "nbconvert_exporter": "python",
   "pygments_lexer": "ipython3",
   "version": "3.12.3"
  }
 },
 "nbformat": 4,
 "nbformat_minor": 2
}
