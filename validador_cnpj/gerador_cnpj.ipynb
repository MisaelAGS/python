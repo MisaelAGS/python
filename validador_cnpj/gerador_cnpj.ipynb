{
 "cells": [
  {
   "cell_type": "markdown",
   "metadata": {},
   "source": [
    "### Gerar cnpj aleatório"
   ]
  },
  {
   "cell_type": "code",
   "execution_count": 24,
   "metadata": {},
   "outputs": [
    {
     "name": "stdout",
     "output_type": "stream",
     "text": [
      "26566078242769"
     ]
    }
   ],
   "source": [
    "import random\n",
    "\n",
    "while True:\n",
    "\n",
    "    num_cnpj = []\n",
    "    for i in range(14):\n",
    "        num_cnpj.append(random.randint(0, 9))\n",
    "    \n",
    "    num_aux = [5,4,3,2,9,8,7,6,5,4,3,2]\n",
    "    somatorio = 0\n",
    "    for i in range(12):\n",
    "        somatorio += int(num_cnpj[i]) * num_aux[i]\n",
    "\n",
    "    if somatorio % 11 < 2:\n",
    "        primeiro_digito_verificador = 0\n",
    "    else:\n",
    "        primeiro_digito_verificador = 11 - somatorio % 11\n",
    "    \n",
    "    num_aux = [6,5,4,3,2,9,8,7,6,5,4,3,2]\n",
    "    somatorio = 0\n",
    "    for i in range(13):\n",
    "        somatorio += int(num_cnpj[i]) * num_aux[i]\n",
    "\n",
    "    if somatorio % 11 < 2:\n",
    "        segundo_digito_verificador = 0\n",
    "    else:\n",
    "        segundo_digito_verificador = 11 - somatorio % 11\n",
    "\n",
    "    if int(num_cnpj[12]) == primeiro_digito_verificador and int(num_cnpj[13]) == segundo_digito_verificador:\n",
    "        break\n",
    "for i in num_cnpj:\n",
    "    print(i, end=\"\")"
   ]
  }
 ],
 "metadata": {
  "kernelspec": {
   "display_name": "Python 3",
   "language": "python",
   "name": "python3"
  },
  "language_info": {
   "codemirror_mode": {
    "name": "ipython",
    "version": 3
   },
   "file_extension": ".py",
   "mimetype": "text/x-python",
   "name": "python",
   "nbconvert_exporter": "python",
   "pygments_lexer": "ipython3",
   "version": "3.12.3"
  }
 },
 "nbformat": 4,
 "nbformat_minor": 2
}
